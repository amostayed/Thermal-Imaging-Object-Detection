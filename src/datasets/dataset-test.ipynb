{
 "cells": [
  {
   "cell_type": "code",
   "execution_count": 1,
   "metadata": {},
   "outputs": [],
   "source": [
    "import os\n",
    "import sys\n",
    "import os.path\n",
    "\n",
    "import random\n",
    "import numpy as np\n",
    "\n",
    "import torch\n",
    "import torch.utils.data as data\n",
    "from torch.utils.data import WeightedRandomSampler\n",
    "import torchvision.transforms as transforms\n",
    "from torch.utils.data import DataLoader\n",
    "import torchvision.transforms as transforms\n",
    "from torch.autograd import Variable\n",
    "\n",
    "import cv2\n",
    "import matplotlib.pyplot as plt\n",
    "%matplotlib inline"
   ]
  },
  {
   "cell_type": "code",
   "execution_count": 2,
   "metadata": {},
   "outputs": [],
   "source": [
    "'''load classes and functions'''\n",
    "from dataset import ThermalDataset"
   ]
  },
  {
   "cell_type": "code",
   "execution_count": 3,
   "metadata": {},
   "outputs": [],
   "source": [
    "train_root = 'C:/Users/mostayad/Desktop/yolo3/FLIR_ADAS_v2/images_thermal_train/data'\n",
    "test_root = 'C:/Users/mostayad/Desktop/yolo3/FLIR_ADAS_v2/images_thermal_val/data'\n",
    "#\n",
    "'''annotation files'''\n",
    "train_annot = 'C:/Users/mostayad/Desktop/yolo3/FLIR_ADAS_v2/FLIR_v2_2022_thermal_train.txt'\n",
    "test_annot = 'C:/Users/mostayad/Desktop/yolo3/FLIR_ADAS_v2/FLIR_v2_2022_thermal_val.txt'\n",
    "#\n",
    "Transform = transforms.Compose([transforms.ToTensor()])     "
   ]
  },
  {
   "cell_type": "code",
   "execution_count": 4,
   "metadata": {},
   "outputs": [
    {
     "name": "stdout",
     "output_type": "stream",
     "text": [
      "data init\n"
     ]
    }
   ],
   "source": [
    "'''data loader'''\n",
    "image_size = 640\n",
    "number_of_classes = 10\n",
    "\n",
    "anchors = [[(54.,161.), (117.,107.), (165.,200.)], \n",
    "           [(28., 29.), (47., 45.), (27.,84.), (73.,71.)],\n",
    "           [(13.,21.), (16.,47.), (28., 29.), (47., 45.)]\n",
    "          ]\n",
    "test_dataset = ThermalDataset(root = test_root, \n",
    "                              list_file = test_annot, \n",
    "                              image_size = image_size, \n",
    "                              anchors = anchors, \n",
    "                              #stack = False,\n",
    "                              num_classes = number_of_classes,\n",
    "                              train = True, \n",
    "                              transform = None)\n",
    "\n",
    "test_loader = DataLoader(test_dataset, \n",
    "                          batch_size = 1, \n",
    "                          shuffle = True,\n",
    "                          #sampler = train_sampler,\n",
    "                          collate_fn = test_dataset.collate_fn,\n",
    "                          num_workers = 0)"
   ]
  },
  {
   "cell_type": "code",
   "execution_count": 5,
   "metadata": {},
   "outputs": [],
   "source": [
    "#test_iter = iter(test_loader)\n",
    "#for imgs, gt_boxes, _, _, _ in test_iter:\n",
    "#    print('%%%%%%%%%%%%%%%%%%%%%%%%%')"
   ]
  },
  {
   "cell_type": "code",
   "execution_count": 6,
   "metadata": {},
   "outputs": [],
   "source": [
    "test_iter = iter(test_loader)\n",
    "imgs, gt_boxes, target, mask_obj, mask_no_obj = next(test_iter)"
   ]
  },
  {
   "cell_type": "code",
   "execution_count": 7,
   "metadata": {},
   "outputs": [],
   "source": [
    "imgs = imgs[0].numpy()\n",
    "gt_boxes = gt_boxes[:,1:]"
   ]
  },
  {
   "cell_type": "code",
   "execution_count": 8,
   "metadata": {},
   "outputs": [
    {
     "data": {
      "text/plain": [
       "(640, 640, 3)"
      ]
     },
     "execution_count": 8,
     "metadata": {},
     "output_type": "execute_result"
    }
   ],
   "source": [
    "imgs.shape"
   ]
  },
  {
   "cell_type": "code",
   "execution_count": 9,
   "metadata": {},
   "outputs": [
    {
     "data": {
      "text/plain": [
       "tensor([[605., 153., 620., 190.,   6.],\n",
       "        [ 60., 181.,  76., 217.,   6.],\n",
       "        [ 76., 183.,  89., 219.,   6.],\n",
       "        [460., 165., 475., 196.,   6.],\n",
       "        [ 66., 149.,  80., 167.,   8.],\n",
       "        [ 54., 255.,  70., 305.,   0.],\n",
       "        [ 63., 258.,  71., 304.,   0.],\n",
       "        [119., 256., 147., 304.,   0.],\n",
       "        [127., 252., 151., 302.,   0.],\n",
       "        [172., 252., 188., 296.,   0.],\n",
       "        [295., 219., 510., 294.,   2.],\n",
       "        [154., 249., 212., 293.,   2.],\n",
       "        [193., 247., 231., 281.,   2.],\n",
       "        [265., 251., 282., 265.,   2.],\n",
       "        [  0., 263.,  31., 317.,   2.],\n",
       "        [ 98., 274., 108., 300.,   7.]])"
      ]
     },
     "execution_count": 9,
     "metadata": {},
     "output_type": "execute_result"
    }
   ],
   "source": [
    "gt_boxes"
   ]
  },
  {
   "cell_type": "code",
   "execution_count": 10,
   "metadata": {},
   "outputs": [],
   "source": [
    "result =[]\n",
    "for box in gt_boxes:\n",
    "    x1 = int(box[0])\n",
    "    x2 = int(box[2])\n",
    "    y1 = int(box[1])\n",
    "    y2 = int(box[3])\n",
    "    cls_index = int(box[-1]) # convert LongTensor to int\n",
    "    \n",
    "    result.append([(x1,y1),(x2,y2)])"
   ]
  },
  {
   "cell_type": "code",
   "execution_count": 11,
   "metadata": {},
   "outputs": [],
   "source": [
    "for left_up,right_bottom in result:\n",
    "    color = [0, 128, 0]\n",
    "    cv2.rectangle(imgs,left_up,right_bottom,color, 2)"
   ]
  },
  {
   "cell_type": "code",
   "execution_count": 12,
   "metadata": {},
   "outputs": [
    {
     "data": {
      "text/plain": [
       "<matplotlib.image.AxesImage at 0x26bf2ac4688>"
      ]
     },
     "execution_count": 12,
     "metadata": {},
     "output_type": "execute_result"
    },
    {
     "data": {
      "image/png": "[encoded data removed]",
      "text/plain": [
       "<Figure size 432x288 with 1 Axes>"
      ]
     },
     "metadata": {
      "needs_background": "light"
     },
     "output_type": "display_data"
    }
   ],
   "source": [
    "plt.imshow(imgs)"
   ]
  },
  {
   "cell_type": "code",
   "execution_count": null,
   "metadata": {},
   "outputs": [],
   "source": []
  }
 ],
 "metadata": {
  "kernelspec": {
   "display_name": "torch18",
   "language": "python",
   "name": "torch18"
  },
  "language_info": {
   "codemirror_mode": {
    "name": "ipython",
    "version": 3
   },
   "file_extension": ".py",
   "mimetype": "text/x-python",
   "name": "python",
   "nbconvert_exporter": "python",
   "pygments_lexer": "ipython3",
   "version": "3.7.10"
  }
 },
 "nbformat": 4,
 "nbformat_minor": 4
}
